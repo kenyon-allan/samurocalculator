{
 "cells": [
  {
   "cell_type": "code",
   "execution_count": 3,
   "metadata": {},
   "outputs": [],
   "source": [
    "from calculations.damage_calculator import damage_calc, raise_for_invalid_inputs\n",
    "from calculations.dataclasses_and_enums import OneTalents, SevenTalents, SixteenTalents"
   ]
  },
  {
   "cell_type": "code",
   "execution_count": 4,
   "metadata": {},
   "outputs": [
    {
     "name": "stdout",
     "output_type": "stream",
     "text": [
      "268.4500829641114 CRIT samuro\n",
      "546.967044039377 CRIT -W samuro\n",
      "694.6145896696382 AA samuro\n",
      "842.2621352998995 AA samuro\n",
      "1130.8459744863192 CRIT samuro\n",
      "1285.2047721906833 AA samuro\n",
      "1439.5635698950473 AA samuro\n",
      "1738.2142871926212 CRIT samuro\n",
      "1892.5730848969852 AA samuro\n",
      "2046.9318826013491 AA samuro\n",
      "2345.582599898923 CRIT samuro\n",
      "2499.941397603287 AA samuro\n",
      "2654.300195307651 AA samuro\n",
      "2952.950912605225 CRIT samuro\n",
      "3107.309710309589 AA samuro\n",
      "3261.6685080139528 AA samuro\n",
      "3560.3192253115267 CRIT samuro\n",
      "3714.6780230158906 AA samuro\n"
     ]
    }
   ],
   "source": [
    "time_series, damage_series = damage_calc(7, 10, num_clones=0, num_clones_attacking=0, one_talent=OneTalents.WAYOFTHEBLADE, seven_talent=SevenTalents.BURNINGBLADE, sixteen_talent=SixteenTalents.NONE)"
   ]
  },
  {
   "cell_type": "code",
   "execution_count": 5,
   "metadata": {},
   "outputs": [
    {
     "data": {
      "text/plain": [
       "[268.4500829641114,\n",
       " 546.967044039377,\n",
       " 694.6145896696382,\n",
       " 842.2621352998995,\n",
       " 1130.8459744863192,\n",
       " 1285.2047721906833,\n",
       " 1439.5635698950473,\n",
       " 1738.2142871926212,\n",
       " 1892.5730848969852,\n",
       " 2046.9318826013491,\n",
       " 2345.582599898923,\n",
       " 2499.941397603287,\n",
       " 2654.300195307651,\n",
       " 2952.950912605225,\n",
       " 3107.309710309589,\n",
       " 3261.6685080139528,\n",
       " 3560.3192253115267,\n",
       " 3714.6780230158906]"
      ]
     },
     "execution_count": 5,
     "metadata": {},
     "output_type": "execute_result"
    }
   ],
   "source": [
    "damage_series"
   ]
  },
  {
   "cell_type": "code",
   "execution_count": 6,
   "metadata": {},
   "outputs": [
    {
     "data": {
      "text/plain": [
       "[0,\n",
       " 0.1875,\n",
       " 0.7863023952095809,\n",
       " 1.3851047904191618,\n",
       " 1.9839071856287427,\n",
       " 2.5827095808383236,\n",
       " 3.1815119760479043,\n",
       " 3.780314371257485,\n",
       " 4.379116766467066,\n",
       " 4.977919161676646,\n",
       " 5.576721556886227,\n",
       " 6.175523952095808,\n",
       " 6.774326347305388,\n",
       " 7.373128742514969,\n",
       " 7.97193113772455,\n",
       " 8.570733532934131,\n",
       " 9.169535928143713,\n",
       " 9.768338323353294]"
      ]
     },
     "execution_count": 6,
     "metadata": {},
     "output_type": "execute_result"
    }
   ],
   "source": [
    "time_series"
   ]
  },
  {
   "cell_type": "code",
   "execution_count": 5,
   "metadata": {},
   "outputs": [],
   "source": [
    "import matplotlib.pyplot as plt"
   ]
  }
 ],
 "metadata": {
  "kernelspec": {
   "display_name": "Python 3",
   "language": "python",
   "name": "python3"
  },
  "language_info": {
   "codemirror_mode": {
    "name": "ipython",
    "version": 3
   },
   "file_extension": ".py",
   "mimetype": "text/x-python",
   "name": "python",
   "nbconvert_exporter": "python",
   "pygments_lexer": "ipython3",
   "version": "3.11.1"
  }
 },
 "nbformat": 4,
 "nbformat_minor": 2
}
