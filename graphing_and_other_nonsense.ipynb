{
 "cells": [
  {
   "cell_type": "code",
   "execution_count": 2,
   "metadata": {},
   "outputs": [],
   "source": [
    "from calculations.damage_calculator import damage_calc\n",
    "from calculations.dataclasses_and_enums import OneTalents, SevenTalents"
   ]
  },
  {
   "cell_type": "code",
   "execution_count": 3,
   "metadata": {},
   "outputs": [
    {
     "name": "stdout",
     "output_type": "stream",
     "text": [
      "278.76006637128916 CRIT\n",
      "574.9426368907839 CRIT -W\n",
      "784.0126866692507 AA\n",
      "993.0827364477175 AA\n",
      "1202.1527862261844 AA\n",
      "1515.7578608938848 CRIT\n",
      "1829.362935561585 CRIT -W\n",
      "2055.8554894882573 AA\n",
      "2282.3480434149296 AA\n",
      "2508.840597341602 AA\n",
      "2822.445672009302 CRIT\n",
      "3136.0507466770023 CRIT -W\n",
      "3362.5433006036747 AA\n",
      "3589.035854530347 AA\n",
      "3815.5284084570194 AA\n",
      "4129.1334831247195 CRIT\n",
      "4442.73855779242 CRIT -W\n",
      "4669.231111719092 AA\n",
      "4895.723665645764 AA\n",
      "5122.216219572437 AA\n"
     ]
    }
   ],
   "source": [
    "time_series, damage_series = damage_calc(7, 10, one_talent=OneTalents.WAYOFILLUSION, seven_talent=SevenTalents.CRUSHINGBLOWS)"
   ]
  },
  {
   "cell_type": "code",
   "execution_count": 5,
   "metadata": {},
   "outputs": [],
   "source": [
    "import matplotlib.pyplot as plt"
   ]
  }
 ],
 "metadata": {
  "kernelspec": {
   "display_name": "Python 3",
   "language": "python",
   "name": "python3"
  },
  "language_info": {
   "codemirror_mode": {
    "name": "ipython",
    "version": 3
   },
   "file_extension": ".py",
   "mimetype": "text/x-python",
   "name": "python",
   "nbconvert_exporter": "python",
   "pygments_lexer": "ipython3",
   "version": "3.11.1"
  }
 },
 "nbformat": 4,
 "nbformat_minor": 2
}
