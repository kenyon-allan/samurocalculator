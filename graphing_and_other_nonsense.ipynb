{
 "cells": [
  {
   "cell_type": "code",
   "execution_count": 1,
   "metadata": {},
   "outputs": [],
   "source": [
    "from calculations.damage_calculator import damage_calc, raise_for_invalid_inputs\n",
    "from calculations.dataclasses_and_enums import OneTalents, SevenTalents"
   ]
  },
  {
   "cell_type": "code",
   "execution_count": 3,
   "metadata": {},
   "outputs": [
    {
     "name": "stdout",
     "output_type": "stream",
     "text": [
      "383.29509126052255 CRIT\n",
      "766.5901825210451 CRIT -W\n",
      "940.8152240031009 AA\n",
      "1115.0402654851566 AA\n",
      "1289.2653069672124 AA\n",
      "1672.5603982277348 CRIT\n",
      "1846.7854397097906 AA\n",
      "2021.0104811918463 AA\n",
      "2195.235522673902 AA\n",
      "2578.5306139344243 CRIT\n",
      "2752.75565541648 AA\n",
      "2926.9806968985354 AA\n",
      "3101.205738380591 AA\n",
      "3484.5008296411133 CRIT\n",
      "3658.725871123169 AA\n",
      "3832.9509126052244 AA\n",
      "4007.17595408728 AA\n",
      "4390.471045347803 CRIT\n"
     ]
    }
   ],
   "source": [
    "time_series, damage_series = damage_calc(13, 10, num_clones=1, one_talent=OneTalents.WAYOFILLUSION, seven_talent=SevenTalents.PHANTOMPAIN)"
   ]
  },
  {
   "cell_type": "code",
   "execution_count": 5,
   "metadata": {},
   "outputs": [],
   "source": [
    "import matplotlib.pyplot as plt"
   ]
  }
 ],
 "metadata": {
  "kernelspec": {
   "display_name": "Python 3",
   "language": "python",
   "name": "python3"
  },
  "language_info": {
   "codemirror_mode": {
    "name": "ipython",
    "version": 3
   },
   "file_extension": ".py",
   "mimetype": "text/x-python",
   "name": "python",
   "nbconvert_exporter": "python",
   "pygments_lexer": "ipython3",
   "version": "3.11.1"
  }
 },
 "nbformat": 4,
 "nbformat_minor": 2
}
