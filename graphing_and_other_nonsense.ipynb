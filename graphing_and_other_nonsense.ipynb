{
 "cells": [
  {
   "cell_type": "code",
   "execution_count": 1,
   "metadata": {},
   "outputs": [],
   "source": [
    "from calculations.damage_calculator import damage_calc, raise_for_invalid_inputs\n",
    "from calculations.dataclasses_and_enums import OneTalents, SevenTalents, SixteenTalents"
   ]
  },
  {
   "cell_type": "code",
   "execution_count": 5,
   "metadata": {},
   "outputs": [
    {
     "name": "stdout",
     "output_type": "stream",
     "text": [
      "27.473712870621416 CRIT clone\n",
      "363.2137092636769 CRIT samuro\n",
      "390.6874221342983 CRIT -W clone\n",
      "747.4111683019197 CRIT -W samuro\n",
      "765.7269768823339 AA clone\n",
      "1017.5319741771256 AA samuro\n",
      "1035.8477827575398 AA clone\n",
      "1287.6527800523313 AA samuro\n",
      "1305.9685886327457 AA clone\n",
      "1557.7735859275372 AA samuro\n",
      "1585.2472987981587 CRIT clone\n",
      "1962.9547947403462 CRIT samuro\n",
      "1990.4285076109677 CRIT -W clone\n",
      "2368.136003553155 CRIT -W samuro\n",
      "2386.4518121335695 AA clone\n",
      "2659.240559202927 AA samuro\n",
      "2677.5563677833416 AA clone\n",
      "2950.345114852699 AA samuro\n",
      "2968.6609234331136 AA clone\n",
      "3241.4496705024712 AA samuro\n",
      "3268.9233833730927 CRIT clone\n",
      "3646.6308793152803 CRIT samuro\n",
      "3674.1045921859018 CRIT -W clone\n",
      "4051.8120881280893 CRIT -W samuro\n",
      "4070.1278967085036 AA clone\n",
      "4342.916643777861 AA samuro\n",
      "4361.232452358276 AA clone\n",
      "4634.021199427633 AA samuro\n",
      "4652.337008008048 AA clone\n",
      "4925.125755077405 AA samuro\n",
      "4952.599467948026 CRIT clone\n",
      "5330.306963890213 CRIT samuro\n",
      "5357.7806767608345 CRIT -W clone\n",
      "5735.4881727030215 CRIT -W samuro\n",
      "5753.803981283436 AA clone\n",
      "6026.5927283527935 AA samuro\n",
      "6044.908536933208 AA clone\n",
      "6317.6972840025655 AA samuro\n",
      "6336.01309258298 AA clone\n",
      "6608.801839652338 AA samuro\n"
     ]
    }
   ],
   "source": [
    "time_series, damage_series = damage_calc(13, 10, num_clones=1, num_clones_attacking=1, one_talent=OneTalents.WAYOFILLUSION, seven_talent=SevenTalents.CRUSHINGBLOWS, sixteen_talent=SixteenTalents.NONE)"
   ]
  },
  {
   "cell_type": "code",
   "execution_count": 6,
   "metadata": {},
   "outputs": [
    {
     "data": {
      "text/plain": [
       "[363.2137092636769,\n",
       " 747.4111683019197,\n",
       " 1017.5319741771256,\n",
       " 1287.6527800523313,\n",
       " 1557.7735859275372,\n",
       " 1962.9547947403462,\n",
       " 2368.136003553155,\n",
       " 2659.240559202927,\n",
       " 2950.345114852699,\n",
       " 3241.4496705024712,\n",
       " 3646.6308793152803,\n",
       " 4051.8120881280893,\n",
       " 4342.916643777861,\n",
       " 4634.021199427633,\n",
       " 4925.125755077405,\n",
       " 5330.306963890213,\n",
       " 5735.4881727030215,\n",
       " 6026.5927283527935,\n",
       " 6317.6972840025655,\n",
       " 6608.801839652338]"
      ]
     },
     "execution_count": 6,
     "metadata": {},
     "output_type": "execute_result"
    }
   ],
   "source": [
    "damage_series"
   ]
  },
  {
   "cell_type": "code",
   "execution_count": 7,
   "metadata": {},
   "outputs": [
    {
     "data": {
      "text/plain": [
       "[0,\n",
       " 0.1875,\n",
       " 0.7863023952095809,\n",
       " 1.3851047904191618,\n",
       " 1.9839071856287427,\n",
       " 2.5827095808383236,\n",
       " 2.7702095808383236,\n",
       " 3.3690119760479043,\n",
       " 3.967814371257485,\n",
       " 4.566616766467066,\n",
       " 5.165419161676646,\n",
       " 5.352919161676646,\n",
       " 5.951721556886227,\n",
       " 6.550523952095808,\n",
       " 7.149326347305388,\n",
       " 7.748128742514969,\n",
       " 7.935628742514969,\n",
       " 8.53443113772455,\n",
       " 9.133233532934131,\n",
       " 9.732035928143713]"
      ]
     },
     "execution_count": 7,
     "metadata": {},
     "output_type": "execute_result"
    }
   ],
   "source": [
    "time_series"
   ]
  },
  {
   "cell_type": "code",
   "execution_count": 5,
   "metadata": {},
   "outputs": [],
   "source": [
    "import matplotlib.pyplot as plt"
   ]
  }
 ],
 "metadata": {
  "kernelspec": {
   "display_name": "Python 3",
   "language": "python",
   "name": "python3"
  },
  "language_info": {
   "codemirror_mode": {
    "name": "ipython",
    "version": 3
   },
   "file_extension": ".py",
   "mimetype": "text/x-python",
   "name": "python",
   "nbconvert_exporter": "python",
   "pygments_lexer": "ipython3",
   "version": "3.11.1"
  }
 },
 "nbformat": 4,
 "nbformat_minor": 2
}
