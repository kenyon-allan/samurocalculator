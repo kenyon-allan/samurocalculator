{
 "cells": [
  {
   "cell_type": "code",
   "execution_count": 1,
   "metadata": {},
   "outputs": [],
   "source": [
    "from calculations.damage_calculator import damage_calc, raise_for_invalid_inputs\n",
    "from calculations.dataclasses_and_enums import OneTalents, SevenTalents"
   ]
  },
  {
   "cell_type": "code",
   "execution_count": 4,
   "metadata": {},
   "outputs": [
    {
     "name": "stdout",
     "output_type": "stream",
     "text": [
      "388.1993708294704 CRIT\n",
      "776.3987416589408 CRIT -W\n",
      "986.2362394046005 AA\n",
      "1196.07373715026 AA\n",
      "1405.9112348959197 AA\n",
      "1794.11060572539 CRIT\n",
      "2003.9481034710498 AA\n",
      "2213.7856012167094 AA\n",
      "2423.623098962369 AA\n",
      "2811.8224697918395 CRIT\n",
      "3021.659967537499 AA\n",
      "3231.497465283159 AA\n",
      "3441.3349630288185 AA\n",
      "3829.534333858289 CRIT\n",
      "4039.3718316039485 AA\n",
      "4249.209329349608 AA\n",
      "4459.046827095268 AA\n",
      "4847.246197924738 CRIT\n"
     ]
    }
   ],
   "source": [
    "time_series, damage_series = damage_calc(13, 10, num_clones=1, one_talent=OneTalents.WAYOFILLUSION, seven_talent=SevenTalents.PHANTOMPAIN)"
   ]
  },
  {
   "cell_type": "code",
   "execution_count": 6,
   "metadata": {},
   "outputs": [
    {
     "data": {
      "text/plain": [
       "[0,\n",
       " 0.1875,\n",
       " 0.7863023952095809,\n",
       " 1.3851047904191618,\n",
       " 1.9839071856287427,\n",
       " 2.5827095808383236,\n",
       " 3.1815119760479043,\n",
       " 3.780314371257485,\n",
       " 4.379116766467066,\n",
       " 4.977919161676646,\n",
       " 5.576721556886227,\n",
       " 6.175523952095808,\n",
       " 6.774326347305388,\n",
       " 7.373128742514969,\n",
       " 7.97193113772455,\n",
       " 8.570733532934131,\n",
       " 9.169535928143713,\n",
       " 9.768338323353294]"
      ]
     },
     "execution_count": 6,
     "metadata": {},
     "output_type": "execute_result"
    }
   ],
   "source": [
    "time_series"
   ]
  },
  {
   "cell_type": "code",
   "execution_count": 5,
   "metadata": {},
   "outputs": [],
   "source": [
    "import matplotlib.pyplot as plt"
   ]
  }
 ],
 "metadata": {
  "kernelspec": {
   "display_name": "Python 3",
   "language": "python",
   "name": "python3"
  },
  "language_info": {
   "codemirror_mode": {
    "name": "ipython",
    "version": 3
   },
   "file_extension": ".py",
   "mimetype": "text/x-python",
   "name": "python",
   "nbconvert_exporter": "python",
   "pygments_lexer": "ipython3",
   "version": "3.11.1"
  }
 },
 "nbformat": 4,
 "nbformat_minor": 2
}
